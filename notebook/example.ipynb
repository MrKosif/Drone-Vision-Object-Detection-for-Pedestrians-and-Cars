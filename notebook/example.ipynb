{
  "cells": [
    {
      "cell_type": "code",
      "execution_count": null,
      "metadata": {
        "id": "DeB1rmEb7HBX"
      },
      "outputs": [],
      "source": [
        "%%capture\n",
        "!pip install roboflow"
      ]
    },
    {
      "cell_type": "code",
      "execution_count": null,
      "metadata": {
        "id": "a2RPlsBi7EPy"
      },
      "outputs": [],
      "source": [
        "from roboflow import Roboflow\n",
        "rf = Roboflow(api_key=\"\")\n",
        "project = rf.workspace(\"kerem-kosif\").project(\"competition-dataset\")\n",
        "dataset = project.version(6).download(\"coco\")"
      ]
    },
    {
      "cell_type": "code",
      "execution_count": null,
      "metadata": {
        "id": "phCXrSBHQuKf"
      },
      "outputs": [],
      "source": [
        "!pip install 'git+https://github.com/facebookresearch/detectron2.git'"
      ]
    },
    {
      "cell_type": "code",
      "execution_count": null,
      "metadata": {
        "id": "KT8BjGnvQuZT"
      },
      "outputs": [],
      "source": [
        "import os\n",
        "import json\n",
        "import random\n",
        "import cv2\n",
        "from matplotlib import pyplot as plt\n",
        "import numpy as np\n",
        "import pandas as pd\n",
        "import glob\n",
        "\n",
        "from detectron2.structures import BoxMode\n",
        "from detectron2 import model_zoo \n",
        "from detectron2.engine import DefaultPredictor\n",
        "from detectron2.config import get_cfg\n",
        "from detectron2.utils.visualizer import Visualizer\n",
        "from detectron2.data import DatasetCatalog, MetadataCatalog"
      ]
    },
    {
      "cell_type": "code",
      "execution_count": null,
      "metadata": {
        "id": "WyJTdmfj9VUf"
      },
      "outputs": [],
      "source": [
        "ann_path = \"/content/competition-dataset-6/train/_annotations.coco.json\"\n",
        "with open(ann_path, \"r\") as jsonn:\n",
        "    train_img_dicts = json.load(jsonn)\n",
        "\n",
        "ann_path = \"/content/competition-dataset-6/valid/_annotations.coco.json\"\n",
        "with open(ann_path, \"r\") as jsonn:\n",
        "    val_img_dicts = json.load(jsonn)"
      ]
    },
    {
      "cell_type": "code",
      "execution_count": null,
      "metadata": {
        "id": "K-7iHKQNmyrS"
      },
      "outputs": [],
      "source": [
        "DatasetCatalog.clear()\n",
        "MetadataCatalog.clear()"
      ]
    },
    {
      "cell_type": "code",
      "execution_count": null,
      "metadata": {
        "colab": {
          "base_uri": "https://localhost:8080/"
        },
        "id": "hPAaIMKDTdkb",
        "outputId": "c799ba3b-0743-4857-f6a6-f8c045bf19dc"
      },
      "outputs": [
        {
          "name": "stdout",
          "output_type": "stream",
          "text": [
            "Registering train dataset!\n",
            "Registering valid dataset!\n"
          ]
        }
      ],
      "source": [
        "from detectron2.data.datasets import register_coco_instances\n",
        "\n",
        "for dataset_name in [\"train\", \"valid\"]:\n",
        "    print(f\"Registering {dataset_name} dataset!\")\n",
        "    ann_path = \"/content/competition-dataset-6/\" + dataset_name + \"/_annotations.coco.json\"\n",
        "    file_path = \"/content/competition-dataset-6/\" + dataset_name\n",
        "    \n",
        "    register_coco_instances(dataset_name, {}, ann_path, file_path)\n"
      ]
    },
    {
      "cell_type": "code",
      "execution_count": null,
      "metadata": {
        "id": "quCvbX2kSAYz"
      },
      "outputs": [],
      "source": [
        "MetadataCatalog.clear()\n",
        "MetadataCatalog.get(\"train\").set(thing_classes=['cars-pedestrians', 'car', 'pedestrian'])\n",
        "metadata = MetadataCatalog.get(\"train\")"
      ]
    },
    {
      "cell_type": "code",
      "execution_count": null,
      "metadata": {
        "id": "QWOsdnxesy8y"
      },
      "outputs": [],
      "source": [
        "from detectron2.engine import DefaultTrainer\n",
        "from detectron2.config import get_cfg\n",
        "\n",
        "cfg=get_cfg()\n",
        "\n",
        "cfg.merge_from_file(model_zoo.get_config_file(\"COCO-Detection/faster_rcnn_R_101_FPN_3x.yaml\"))\n",
        "cfg.MODEL.WEIGHTS = model_zoo.get_checkpoint_url(\"COCO-Detection/faster_rcnn_R_101_FPN_3x.yaml\")\n",
        "\n",
        "cfg.MODEL.ANCHOR_GENERATOR.SIZES = [[16, 32, 64, 128, 256]]\n",
        "cfg.MODEL.ANCHOR_GENERATOR.ASPECT_RATIOS = [[0.5, 1.0, 2.0]]\n",
        "\n",
        "cfg.INPUT.MIN_SIZE_TRAIN = 0\n",
        "cfg.INPUT.MAX_SIZE_TRAIN = 99999\n",
        "#cfg.INPUT.RANDOM_FLIP = \"horizontal\"\n",
        "\n",
        "cfg.DATASETS.TRAIN = (\"train\",)\n",
        "cfg.DATASETS.TEST = (\"valid\",)\n",
        "\n",
        "cfg.DATALOADER.NUM_WORKERS = 2\n",
        "cfg.SOLVER.IMS_PER_BATCH = 2\n",
        "\n",
        "cfg.SOLVER.BASE_LR = 0.00125\n",
        "cfg.SOLVER.MAX_ITER = 700\n",
        "\n",
        "cfg.MODEL.ROI_HEADS.BATCH_SIZE_PER_IMAGE = 128\n",
        "cfg.MODEL.ROI_HEADS.NUM_CLASSES = 8\n",
        "\n",
        "os.makedirs(cfg.OUTPUT_DIR, exist_ok=True)\n",
        "\n",
        "trainer = DefaultTrainer(cfg)\n",
        "trainer.resume_or_load(resume=False)"
      ]
    },
    {
      "cell_type": "code",
      "execution_count": null,
      "metadata": {
        "id": "w8eOD9H4WREI"
      },
      "outputs": [],
      "source": [
        "trainer.train()"
      ]
    },
    {
      "cell_type": "code",
      "execution_count": null,
      "metadata": {
        "id": "ZVVXnRDvvKr2"
      },
      "outputs": [],
      "source": [
        "cfg.MODEL.WEIGHTS = os.path.join(cfg.OUTPUT_DIR, \"model_final.pth\")\n",
        "cfg.MODEL.ROI_HEADS.SCORE_THRESH_TEST = 0.5\n",
        "cfg.INPUT.MIN_SIZE_TEST = 0\n",
        "cfg.INPUT.MAX_SIZE_TEST = 99999\n",
        "cfg.DATASETS.TEST = (\"valid\",)\n",
        "predictor = DefaultPredictor(cfg)"
      ]
    },
    {
      "cell_type": "code",
      "execution_count": null,
      "metadata": {
        "id": "F6AKPCuus2Og"
      },
      "outputs": [],
      "source": [
        "file_path = \"/content/competition-dataset-6/valid/\"\n",
        "image_num = 25\n",
        "%matplotlib inline\n",
        "for label in random.sample(val_img_dicts[\"images\"], image_num):\n",
        "    path = file_path + label[\"file_name\"]\n",
        "    print(path)\n",
        "    plt.figure(figsize=(16,10))\n",
        "    img = cv2.imread(path)\n",
        "    outputs = predictor(img)\n",
        "    visualizer = Visualizer(img[:, :, ::-1],\n",
        "                          metadata=metadata,\n",
        "                          scale=1)\n",
        "    visualizer = visualizer.draw_instance_predictions(outputs[\"instances\"].to(\"cpu\"))\n",
        "    plt.imshow(visualizer.get_image()[:, :, ::-1])"
      ]
    },
    {
      "cell_type": "code",
      "execution_count": null,
      "metadata": {
        "id": "8R8a2asHxUhp"
      },
      "outputs": [],
      "source": [
        "from detectron2.evaluation import COCOEvaluator, inference_on_dataset\n",
        "from detectron2.data import build_detection_test_loader\n",
        "\n",
        "evaluator = COCOEvaluator(dataset_name=\"valid\", distributed=False,output_dir=\"./output\")\n",
        "val_loader = build_detection_test_loader(cfg, dataset_name=\"valid\")\n",
        "inference_on_dataset(model=trainer.model, data_loader=val_loader, evaluator=evaluator)"
      ]
    }
  ],
  "metadata": {
    "accelerator": "GPU",
    "colab": {
      "provenance": []
    },
    "gpuClass": "standard",
    "kernelspec": {
      "display_name": "Python 3",
      "name": "python3"
    },
    "language_info": {
      "name": "python"
    }
  },
  "nbformat": 4,
  "nbformat_minor": 0
}